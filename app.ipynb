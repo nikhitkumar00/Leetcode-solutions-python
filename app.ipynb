{
 "cells": [
  {
   "cell_type": "code",
   "execution_count": 13,
   "metadata": {},
   "outputs": [
    {
     "data": {
      "text/plain": [
       "9"
      ]
     },
     "execution_count": 13,
     "metadata": {},
     "output_type": "execute_result"
    }
   ],
   "source": [
    "s = \"110011101010101111111110000\"\n",
    "# Split the string `s` by the digit \"0\"\n",
    "# This will give a list of substrings which were separated by \"0\"\n",
    "split_list = s.split(\"0\")\n",
    "\n",
    "# Find the longest substring in the list\n",
    "max_substring = max(split_list)\n",
    "\n",
    "# Calculate the length of the longest substring\n",
    "length_of_longest_substring = len(max_substring)"
   ]
  }
 ],
 "metadata": {
  "kernelspec": {
   "display_name": "base",
   "language": "python",
   "name": "python3"
  },
  "language_info": {
   "codemirror_mode": {
    "name": "ipython",
    "version": 3
   },
   "file_extension": ".py",
   "mimetype": "text/x-python",
   "name": "python",
   "nbconvert_exporter": "python",
   "pygments_lexer": "ipython3",
   "version": "3.12.4"
  }
 },
 "nbformat": 4,
 "nbformat_minor": 2
}
